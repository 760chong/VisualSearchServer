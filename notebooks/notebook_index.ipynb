{
 "cells": [
  {
   "cell_type": "code",
   "execution_count": 1,
   "metadata": {
    "collapsed": false
   },
   "outputs": [],
   "source": [
    "import os,glob,sys\n",
    "sys.path.insert(1, os.path.join(os.path.abspath('..'), ''))\n",
    "import numpy as np\n",
    "from scipy import spatial\n",
    "from IPython.display import Image,display\n",
    "from settings import AWS\n",
    "import inception\n"
   ]
  },
  {
   "cell_type": "code",
   "execution_count": 2,
   "metadata": {
    "collapsed": true
   },
   "outputs": [],
   "source": [
    "inception.load_network()"
   ]
  },
  {
   "cell_type": "code",
   "execution_count": 3,
   "metadata": {
    "collapsed": false
   },
   "outputs": [
    {
     "name": "stdout",
     "output_type": "stream",
     "text": [
      "/Users/aub3/index/3.feats_pool3.npy\n",
      "/Users/aub3/index/30.feats_pool3.npy\n",
      "/Users/aub3/index/300.feats_pool3.npy\n",
      "/Users/aub3/index/301.feats_pool3.npy\n",
      "/Users/aub3/index/302.feats_pool3.npy\n",
      "/Users/aub3/index/303.feats_pool3.npy\n",
      "/Users/aub3/index/304.feats_pool3.npy\n",
      "/Users/aub3/index/305.feats_pool3.npy\n",
      "/Users/aub3/index/306.feats_pool3.npy\n",
      "/Users/aub3/index/307.feats_pool3.npy\n",
      "/Users/aub3/index/308.feats_pool3.npy\n",
      "/Users/aub3/index/309.feats_pool3.npy\n",
      "/Users/aub3/index/31.feats_pool3.npy\n",
      "/Users/aub3/index/310.feats_pool3.npy\n",
      "/Users/aub3/index/311.feats_pool3.npy\n",
      "/Users/aub3/index/312.feats_pool3.npy\n",
      "/Users/aub3/index/313.feats_pool3.npy\n",
      "/Users/aub3/index/314.feats_pool3.npy\n",
      "/Users/aub3/index/315.feats_pool3.npy\n",
      "/Users/aub3/index/316.feats_pool3.npy\n",
      "/Users/aub3/index/317.feats_pool3.npy\n",
      "/Users/aub3/index/318.feats_pool3.npy\n",
      "/Users/aub3/index/319.feats_pool3.npy\n",
      "/Users/aub3/index/32.feats_pool3.npy\n",
      "/Users/aub3/index/320.feats_pool3.npy\n",
      "/Users/aub3/index/321.feats_pool3.npy\n",
      "/Users/aub3/index/322.feats_pool3.npy\n",
      "/Users/aub3/index/323.feats_pool3.npy\n",
      "/Users/aub3/index/324.feats_pool3.npy\n",
      "/Users/aub3/index/325.feats_pool3.npy\n",
      "/Users/aub3/index/326.feats_pool3.npy\n",
      "/Users/aub3/index/327.feats_pool3.npy\n",
      "/Users/aub3/index/328.feats_pool3.npy\n",
      "/Users/aub3/index/329.feats_pool3.npy\n",
      "/Users/aub3/index/33.feats_pool3.npy\n",
      "/Users/aub3/index/330.feats_pool3.npy\n",
      "/Users/aub3/index/331.feats_pool3.npy\n",
      "/Users/aub3/index/332.feats_pool3.npy\n",
      "/Users/aub3/index/333.feats_pool3.npy\n",
      "/Users/aub3/index/334.feats_pool3.npy\n",
      "/Users/aub3/index/335.feats_pool3.npy\n",
      "/Users/aub3/index/336.feats_pool3.npy\n",
      "/Users/aub3/index/337.feats_pool3.npy\n",
      "/Users/aub3/index/338.feats_pool3.npy\n",
      "/Users/aub3/index/339.feats_pool3.npy\n",
      "/Users/aub3/index/34.feats_pool3.npy\n",
      "/Users/aub3/index/340.feats_pool3.npy\n",
      "/Users/aub3/index/341.feats_pool3.npy\n",
      "/Users/aub3/index/342.feats_pool3.npy\n",
      "/Users/aub3/index/343.feats_pool3.npy\n",
      "/Users/aub3/index/344.feats_pool3.npy\n",
      "/Users/aub3/index/345.feats_pool3.npy\n",
      "/Users/aub3/index/346.feats_pool3.npy\n",
      "/Users/aub3/index/347.feats_pool3.npy\n",
      "/Users/aub3/index/348.feats_pool3.npy\n",
      "/Users/aub3/index/349.feats_pool3.npy\n",
      "/Users/aub3/index/35.feats_pool3.npy\n",
      "/Users/aub3/index/350.feats_pool3.npy\n",
      "/Users/aub3/index/351.feats_pool3.npy\n",
      "/Users/aub3/index/352.feats_pool3.npy\n",
      "/Users/aub3/index/353.feats_pool3.npy\n",
      "/Users/aub3/index/354.feats_pool3.npy\n",
      "/Users/aub3/index/355.feats_pool3.npy\n",
      "/Users/aub3/index/356.feats_pool3.npy\n",
      "/Users/aub3/index/357.feats_pool3.npy\n",
      "/Users/aub3/index/358.feats_pool3.npy\n",
      "/Users/aub3/index/359.feats_pool3.npy\n",
      "/Users/aub3/index/36.feats_pool3.npy\n",
      "/Users/aub3/index/360.feats_pool3.npy\n",
      "/Users/aub3/index/361.feats_pool3.npy\n",
      "/Users/aub3/index/362.feats_pool3.npy\n",
      "/Users/aub3/index/363.feats_pool3.npy\n",
      "/Users/aub3/index/364.feats_pool3.npy\n",
      "/Users/aub3/index/365.feats_pool3.npy\n",
      "/Users/aub3/index/366.feats_pool3.npy\n",
      "/Users/aub3/index/367.feats_pool3.npy\n",
      "/Users/aub3/index/368.feats_pool3.npy\n",
      "/Users/aub3/index/369.feats_pool3.npy\n",
      "/Users/aub3/index/37.feats_pool3.npy\n",
      "/Users/aub3/index/370.feats_pool3.npy\n",
      "/Users/aub3/index/371.feats_pool3.npy\n",
      "/Users/aub3/index/372.feats_pool3.npy\n",
      "/Users/aub3/index/373.feats_pool3.npy\n",
      "/Users/aub3/index/374.feats_pool3.npy\n",
      "/Users/aub3/index/375.feats_pool3.npy\n",
      "/Users/aub3/index/376.feats_pool3.npy\n",
      "/Users/aub3/index/377.feats_pool3.npy\n",
      "/Users/aub3/index/378.feats_pool3.npy\n",
      "/Users/aub3/index/379.feats_pool3.npy\n",
      "/Users/aub3/index/38.feats_pool3.npy\n",
      "/Users/aub3/index/380.feats_pool3.npy\n",
      "/Users/aub3/index/381.feats_pool3.npy\n",
      "/Users/aub3/index/382.feats_pool3.npy\n",
      "/Users/aub3/index/383.feats_pool3.npy\n",
      "/Users/aub3/index/384.feats_pool3.npy\n",
      "/Users/aub3/index/385.feats_pool3.npy\n",
      "/Users/aub3/index/386.feats_pool3.npy\n",
      "/Users/aub3/index/387.feats_pool3.npy\n",
      "/Users/aub3/index/388.feats_pool3.npy\n",
      "/Users/aub3/index/389.feats_pool3.npy\n",
      "/Users/aub3/index/39.feats_pool3.npy\n",
      "/Users/aub3/index/390.feats_pool3.npy\n",
      "/Users/aub3/index/391.feats_pool3.npy\n",
      "/Users/aub3/index/392.feats_pool3.npy\n",
      "/Users/aub3/index/393.feats_pool3.npy\n",
      "/Users/aub3/index/394.feats_pool3.npy\n",
      "/Users/aub3/index/395.feats_pool3.npy\n",
      "/Users/aub3/index/396.feats_pool3.npy\n",
      "/Users/aub3/index/397.feats_pool3.npy\n",
      "/Users/aub3/index/398.feats_pool3.npy\n",
      "/Users/aub3/index/399.feats_pool3.npy\n"
     ]
    }
   ],
   "source": [
    "index,files = inception.load_index()"
   ]
  },
  {
   "cell_type": "code",
   "execution_count": 4,
   "metadata": {
    "collapsed": false
   },
   "outputs": [
    {
     "data": {
      "text/plain": [
       "110853"
      ]
     },
     "execution_count": 4,
     "metadata": {},
     "output_type": "execute_result"
    }
   ],
   "source": [
    "len(files)"
   ]
  },
  {
   "cell_type": "code",
   "execution_count": 5,
   "metadata": {
    "collapsed": false
   },
   "outputs": [
    {
     "data": {
      "text/plain": [
       "110853"
      ]
     },
     "execution_count": 5,
     "metadata": {},
     "output_type": "execute_result"
    }
   ],
   "source": [
    "len(index)\n"
   ]
  },
  {
   "cell_type": "code",
   "execution_count": 6,
   "metadata": {
    "collapsed": false
   },
   "outputs": [
    {
     "data": {
      "text/plain": [
       "(110853, 2048)"
      ]
     },
     "execution_count": 6,
     "metadata": {},
     "output_type": "execute_result"
    }
   ],
   "source": [
    "index.shape"
   ]
  }
 ],
 "metadata": {
  "kernelspec": {
   "display_name": "Python 2",
   "language": "python",
   "name": "python2"
  },
  "language_info": {
   "codemirror_mode": {
    "name": "ipython",
    "version": 2
   },
   "file_extension": ".py",
   "mimetype": "text/x-python",
   "name": "python",
   "nbconvert_exporter": "python",
   "pygments_lexer": "ipython2",
   "version": "2.7.10"
  }
 },
 "nbformat": 4,
 "nbformat_minor": 0
}
